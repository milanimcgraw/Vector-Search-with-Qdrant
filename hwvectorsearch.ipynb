{
 "cells": [
  {
   "cell_type": "markdown",
   "id": "bb805579-d4a0-44bb-a77f-9a217f13cd46",
   "metadata": {},
   "source": [
    "## Homework: Vector Search"
   ]
  },
  {
   "cell_type": "code",
   "execution_count": 7,
   "id": "358357e0-73d5-4641-9020-022631cd43c9",
   "metadata": {},
   "outputs": [],
   "source": [
    "from fastembed import TextEmbedding\n",
    "import numpy as np"
   ]
  },
  {
   "cell_type": "code",
   "execution_count": 8,
   "id": "23620440-6f53-4ee9-8b1d-de8f88ec2938",
   "metadata": {},
   "outputs": [],
   "source": [
    "EMBEDDING_DIMENSIONALITY = 512\n",
    "model_handle = \"jinaai/jina-embeddings-v2-small-en\""
   ]
  },
  {
   "cell_type": "markdown",
   "id": "0ad5fcad-333c-4495-80e4-be3c0c56d781",
   "metadata": {},
   "source": [
    "# 1. Embedding the query\n",
    "\n",
    "Embed the query: `'I just discovered the course. Can I join now?'`. Use the `'jinaai/jina-embeddings-v2-small-en'` model.\n",
    "\n",
    "You should get a numpy array of size 512.\n",
    "\n",
    "What's the minimal value in this array?\n",
    "\n",
    "- 0.51\n",
    "- -0.11 ✅\n",
    "- 0\n",
    "- 0.51"
   ]
  },
  {
   "cell_type": "code",
   "execution_count": 9,
   "id": "6713a16d-38c9-46ea-ac6e-5d867f5e5229",
   "metadata": {},
   "outputs": [],
   "source": [
    "query = \"I just discovered the course. Can I join now?\"\n",
    "\n",
    "model = TextEmbedding(model_name=model_handle, dim=EMBEDDING_DIMENSIONALITY)\n",
    "\n",
    "q = list(model.embed(query))[0]"
   ]
  },
  {
   "cell_type": "code",
   "execution_count": 10,
   "id": "6d4e66ad-21b6-497f-a657-7506550800b5",
   "metadata": {},
   "outputs": [
    {
     "name": "stdout",
     "output_type": "stream",
     "text": [
      "<class 'numpy.ndarray'>\n"
     ]
    },
    {
     "data": {
      "text/plain": [
       "512"
      ]
     },
     "execution_count": 10,
     "metadata": {},
     "output_type": "execute_result"
    }
   ],
   "source": [
    "print(type(q))  \n",
    "len(q) "
   ]
  },
  {
   "cell_type": "code",
   "execution_count": 11,
   "id": "1f7b046d-6aff-41f9-8c4c-cc3ba289ba4c",
   "metadata": {},
   "outputs": [
    {
     "data": {
      "text/plain": [
       "np.float64(-0.11726373885183883)"
      ]
     },
     "execution_count": 11,
     "metadata": {},
     "output_type": "execute_result"
    }
   ],
   "source": [
    "np.min(q) "
   ]
  },
  {
   "cell_type": "code",
   "execution_count": 12,
   "id": "f4700d10-6e47-4d3e-9dc2-fd9a8c847986",
   "metadata": {},
   "outputs": [
    {
     "data": {
      "text/plain": [
       "np.float64(1.0)"
      ]
     },
     "execution_count": 12,
     "metadata": {},
     "output_type": "execute_result"
    }
   ],
   "source": [
    "np.linalg.norm(q)"
   ]
  },
  {
   "cell_type": "markdown",
   "id": "4de23dcf-c73c-4116-a0a8-117f452f8d66",
   "metadata": {},
   "source": [
    "# 2. Cosine similarity with another vector\n",
    "\n",
    "Now let's embed this document:\n",
    "\n",
    "```python\n",
    "doc = 'Can I still join the course after the start date?'\n",
    "```\n",
    "What's the cosine similarity between the vector for the query and the vector for the document?\n",
    "\n",
    "- 0.3\n",
    "- 0.5\n",
    "- 0.7\n",
    "- 0.9 ✅"
   ]
  },
  {
   "cell_type": "code",
   "execution_count": 13,
   "id": "217f7876-150a-4912-8a60-a2bbfe6af487",
   "metadata": {},
   "outputs": [
    {
     "data": {
      "text/plain": [
       "np.float64(0.9008528895674548)"
      ]
     },
     "execution_count": 13,
     "metadata": {},
     "output_type": "execute_result"
    }
   ],
   "source": [
    "doc = 'Can I still join the course after the start date?'\n",
    "\n",
    "d = list(model.embed(doc))[0]\n",
    "\n",
    "q.dot(d)  # Dot product between query and document embeddings"
   ]
  },
  {
   "cell_type": "markdown",
   "id": "544c642d-322b-475f-b061-9aad577dc9fc",
   "metadata": {},
   "source": [
    "# 3. Ranking by cosine\n",
    "\n",
    "Compute the embeddings for the text field, and compute the cosine between the query vector and all the documents.\n",
    "\n",
    "What's the document index with the highest similarity? (Indexing starts from 0):\n",
    "\n",
    "- 0\n",
    "- 1 ✅\n",
    "- 2\n",
    "- 3\n",
    "- 4\n",
    "\n",
    "Hint: if you put all the embeddings of the text field in one matrix V (a single 2-dimensional numpy array), then computing the cosine becomes a matrix multiplication:\n",
    "\n",
    "```V.dot(q)```\n",
    "\n",
    "If this hint is rather confusing you than helping, feel free to ignore it.\n"
   ]
  },
  {
   "cell_type": "code",
   "execution_count": 18,
   "id": "8179340f-5bad-4938-b2da-517d7f57421a",
   "metadata": {},
   "outputs": [],
   "source": [
    "documents = [\n",
    "  {'text': \"Yes, even if you don't register, you're still eligible to submit the homeworks.\\nBe aware, however, that there will be deadlines for turning in the final projects. So don't leave everything for the last minute.\",\n",
    "    'section': 'General course-related questions',\n",
    "    'question': 'Course - Can I still join the course after the start date?',\n",
    "    'course': 'data-engineering-zoomcamp'},\n",
    "  {'text': 'Yes, we will keep all the materials after the course finishes, so you can follow the course at your own pace after it finishes.\\nYou can also continue looking at the homeworks and continue preparing for the next cohort. I guess you can also start working on your final capstone project.',\n",
    "    'section': 'General course-related questions',\n",
    "    'question': 'Course - Can I follow the course after it finishes?',\n",
    "    'course': 'data-engineering-zoomcamp'},\n",
    "  {'text': \"The purpose of this document is to capture frequently asked technical questions\\nThe exact day and hour of the course will be 15th Jan 2024 at 17h00. The course will start with the first  “Office Hours'' live.1\\nSubscribe to course public Google Calendar (it works from Desktop only).\\nRegister before the course starts using this link.\\nJoin the course Telegram channel with announcements.\\nDon’t forget to register in DataTalks.Club's Slack and join the channel.\",\n",
    "    'section': 'General course-related questions',\n",
    "    'question': 'Course - When will the course start?',\n",
    "    'course': 'data-engineering-zoomcamp'},\n",
    "  {'text': 'You can start by installing and setting up all the dependencies and requirements:\\nGoogle cloud account\\nGoogle Cloud SDK\\nPython 3 (installed with Anaconda)\\nTerraform\\nGit\\nLook over the prerequisites and syllabus to see if you are comfortable with these subjects.',\n",
    "    'section': 'General course-related questions',\n",
    "    'question': 'Course - What can I do before the course starts?',\n",
    "    'course': 'data-engineering-zoomcamp'},\n",
    "  {'text': 'Star the repo! Share it with friends if you find it useful ❣️\\nCreate a PR if you see you can improve the text or the structure of the repository.',\n",
    "    'section': 'General course-related questions',\n",
    "    'question': 'How can we contribute to the course?',\n",
    "    'course': 'data-engineering-zoomcamp'}\n",
    "  ]\n",
    "\n",
    "text_list = [doc['text'] for doc in documents]\n",
    "embeddings = np.array(list(model.embed(text_list)))"
   ]
  },
  {
   "cell_type": "code",
   "execution_count": 19,
   "id": "622cea67-52fb-41ab-87fa-f0bdf6dd5fc8",
   "metadata": {},
   "outputs": [
    {
     "data": {
      "text/plain": [
       "np.int64(1)"
      ]
     },
     "execution_count": 19,
     "metadata": {},
     "output_type": "execute_result"
    }
   ],
   "source": [
    "similarities = np.dot(embeddings, q)\n",
    "best_index = np.argmax(similarities)\n",
    "best_index"
   ]
  },
  {
   "cell_type": "markdown",
   "id": "264b56ba-ad85-4db6-b198-b9d71468516d",
   "metadata": {},
   "source": [
    "# 4. Ranking by cosine, version two\n",
    "Now let's calculate a new field, which is a concatenation of question and text:\n",
    "\n",
    "```\n",
    "full_text = doc['question'] + ' ' + doc['text']\n",
    "```\n",
    "\n",
    "Embed this field and compute the cosine between it and the query vector. What's the highest scoring document?\n",
    "\n",
    "- 0 ✅\n",
    "- 1\n",
    "- 2\n",
    "- 3\n",
    "- 4\n",
    "\n",
    "\n",
    "#### Is it different from Q3? If yes, why?\n",
    "\n",
    "> **Yes, it's different because Q3 only uses the answer (text), while Q4 uses both the question and answer.**"
   ]
  },
  {
   "cell_type": "code",
   "execution_count": 20,
   "id": "a6880d28-c90b-4a54-98aa-729931664ab9",
   "metadata": {},
   "outputs": [
    {
     "name": "stdout",
     "output_type": "stream",
     "text": [
      "[\"Course - Can I still join the course after the start date? Yes, even if you don't register, you're still eligible to submit the homeworks.\\nBe aware, however, that there will be deadlines for turning in the final projects. So don't leave everything for the last minute.\", 'Course - Can I follow the course after it finishes? Yes, we will keep all the materials after the course finishes, so you can follow the course at your own pace after it finishes.\\nYou can also continue looking at the homeworks and continue preparing for the next cohort. I guess you can also start working on your final capstone project.', \"Course - When will the course start? The purpose of this document is to capture frequently asked technical questions\\nThe exact day and hour of the course will be 15th Jan 2024 at 17h00. The course will start with the first  “Office Hours'' live.1\\nSubscribe to course public Google Calendar (it works from Desktop only).\\nRegister before the course starts using this link.\\nJoin the course Telegram channel with announcements.\\nDon’t forget to register in DataTalks.Club's Slack and join the channel.\", 'Course - What can I do before the course starts? You can start by installing and setting up all the dependencies and requirements:\\nGoogle cloud account\\nGoogle Cloud SDK\\nPython 3 (installed with Anaconda)\\nTerraform\\nGit\\nLook over the prerequisites and syllabus to see if you are comfortable with these subjects.', 'How can we contribute to the course? Star the repo! Share it with friends if you find it useful ❣️\\nCreate a PR if you see you can improve the text or the structure of the repository.']\n"
     ]
    },
    {
     "data": {
      "text/plain": [
       "np.int64(0)"
      ]
     },
     "execution_count": 20,
     "metadata": {},
     "output_type": "execute_result"
    }
   ],
   "source": [
    "full_text = [doc['question'] + ' ' + doc['text'] for doc in documents]\n",
    "print(full_text)\n",
    "\n",
    "full_emb = np.array(list(model.embed(full_text)))\n",
    "np.argmax(full_emb.dot(q))"
   ]
  },
  {
   "cell_type": "markdown",
   "id": "eb1170ca-4966-48f2-8132-b3cee38937c5",
   "metadata": {},
   "source": [
    "# 5. Selecting the embedding model\n",
    "\n",
    "Now let's select a smaller embedding model. What's the smallest dimensionality for models in fastembed?\n",
    "\n",
    "- 128\n",
    "- 256\n",
    "- 384 ✅\n",
    "- 512\n",
    "\n",
    "One of these models is `BAAI/bge-small-en`. Let's use it."
   ]
  },
  {
   "cell_type": "code",
   "execution_count": 21,
   "id": "779593d6-57ea-4f87-b6f5-31595725b2b9",
   "metadata": {},
   "outputs": [
    {
     "name": "stdout",
     "output_type": "stream",
     "text": [
      "BAAI/bge-small-en 384\n"
     ]
    }
   ],
   "source": [
    "min_d = 512\n",
    "\n",
    "for model in TextEmbedding.list_supported_models():\n",
    "    if model['dim'] < min_d:\n",
    "        print(model['model'], model['dim'])\n",
    "        min_d = model['dim']\n",
    "        break"
   ]
  },
  {
   "cell_type": "markdown",
   "id": "26316b45-8ca8-4cf5-93c2-4b6ff5834921",
   "metadata": {},
   "source": [
    "# 6. Indexing with qdrant (2 points)\n",
    "What's the highest score in the results? (The score for the first returned record):\n",
    "\n",
    "- 0.97\n",
    "- 0.87 ✅\n",
    "- 0.77\n",
    "- 0.67"
   ]
  },
  {
   "cell_type": "code",
   "execution_count": 22,
   "id": "a78f5cb1-709c-4b48-a9b9-1738b75415de",
   "metadata": {},
   "outputs": [],
   "source": [
    "from qdrant_client import QdrantClient, models"
   ]
  },
  {
   "cell_type": "code",
   "execution_count": 23,
   "id": "61784d3a-b8f1-45b2-9404-e3495dca1152",
   "metadata": {},
   "outputs": [],
   "source": [
    "client = QdrantClient(\"http://localhost:6333\")"
   ]
  },
  {
   "cell_type": "code",
   "execution_count": 24,
   "id": "ae8e2ae0-da25-44e7-ae82-024173150a15",
   "metadata": {},
   "outputs": [],
   "source": [
    "import requests \n",
    "\n",
    "docs_url = 'https://raw.githubusercontent.com/milanimcgraw/LLM-Zoomcamp-2025/refs/heads/main/Data/documents.json'\n",
    "docs_response = requests.get(docs_url)\n",
    "documents_raw = docs_response.json()\n",
    "\n",
    "documents = []\n",
    "\n",
    "for course in documents_raw:\n",
    "    course_name = course['course']\n",
    "    if course_name != 'machine-learning-zoomcamp':\n",
    "        continue\n",
    "\n",
    "    for doc in course['documents']:\n",
    "        doc['course'] = course_name\n",
    "        documents.append(doc)"
   ]
  },
  {
   "cell_type": "code",
   "execution_count": 25,
   "id": "34879c33-f9c2-49ad-a6d2-bf46bdb960c2",
   "metadata": {},
   "outputs": [
    {
     "data": {
      "text/plain": [
       "{'text': 'Machine Learning Zoomcamp FAQ\\nThe purpose of this document is to capture frequently asked technical questions.\\nWe did this for our data engineering course and it worked quite well. Check this document for inspiration on how to structure your questions and answers:\\nData Engineering Zoomcamp FAQ\\nIn the course GitHub repository there’s a link. Here it is: https://airtable.com/shryxwLd0COOEaqXo\\nwork',\n",
       " 'section': 'General course-related questions',\n",
       " 'question': 'How do I sign up?',\n",
       " 'course': 'machine-learning-zoomcamp'}"
      ]
     },
     "execution_count": 25,
     "metadata": {},
     "output_type": "execute_result"
    }
   ],
   "source": [
    "documents[0]"
   ]
  },
  {
   "cell_type": "markdown",
   "id": "c6a4feef-4a2f-4bee-ae70-74c7e75b8df1",
   "metadata": {},
   "source": [
    "### Choose Embedding Model"
   ]
  },
  {
   "cell_type": "code",
   "execution_count": 26,
   "id": "923dd227-0972-4961-a121-8294eb3e21ac",
   "metadata": {},
   "outputs": [],
   "source": [
    "homework_model_handle = \"BAAI/bge-small-en\""
   ]
  },
  {
   "cell_type": "markdown",
   "id": "ab18b196-3ad7-4908-9925-7cf9bfee8c9c",
   "metadata": {},
   "source": [
    "### Create Collection"
   ]
  },
  {
   "cell_type": "code",
   "execution_count": 27,
   "id": "5f48cdc2-5489-45ff-9b0e-deab5189f76c",
   "metadata": {},
   "outputs": [
    {
     "data": {
      "text/plain": [
       "True"
      ]
     },
     "execution_count": 27,
     "metadata": {},
     "output_type": "execute_result"
    }
   ],
   "source": [
    "collection_name = \"vector search hw\"\n",
    "\n",
    "# Create the collection with specified vector parameters\n",
    "client.create_collection(\n",
    "    collection_name=collection_name,\n",
    "    vectors_config=models.VectorParams(\n",
    "        size=EMBEDDING_DIMENSIONALITY,  # Dimensionality of the vectors\n",
    "        distance=models.Distance.COSINE  # Distance metric for similarity search\n",
    "    )\n",
    ")"
   ]
  },
  {
   "cell_type": "markdown",
   "id": "10b12878-0660-4b12-831b-7ffc59fbd4db",
   "metadata": {},
   "source": [
    "### Create, Embed & Insert Points into the Collection"
   ]
  },
  {
   "cell_type": "code",
   "execution_count": 28,
   "id": "4a409a8f-ab70-442e-aa6e-2286b888f354",
   "metadata": {},
   "outputs": [],
   "source": [
    "points = []\n",
    "id = 0\n",
    "\n",
    "for course in documents_raw:\n",
    "    for doc in course['documents']:\n",
    "        text = doc['question'] + \" \" + doc['text']  \n",
    "\n",
    "        point = models.PointStruct(\n",
    "            id=id,\n",
    "            vector=models.Document(text=text, model=model_handle),\n",
    "            payload={\n",
    "                \"question\": doc[\"question\"],\n",
    "                \"text\": doc[\"text\"],\n",
    "                \"section\": doc[\"section\"],\n",
    "                \"course\": course[\"course\"]\n",
    "            }\n",
    "        )\n",
    "\n",
    "        points.append(point)\n",
    "        id += 1"
   ]
  },
  {
   "cell_type": "code",
   "execution_count": 29,
   "id": "f3b1aeb5-4b3d-44e8-8c6e-e73dd06f508d",
   "metadata": {},
   "outputs": [
    {
     "data": {
      "text/plain": [
       "UpdateResult(operation_id=0, status=<UpdateStatus.COMPLETED: 'completed'>)"
      ]
     },
     "execution_count": 29,
     "metadata": {},
     "output_type": "execute_result"
    }
   ],
   "source": [
    "client.upsert(\n",
    "    collection_name=collection_name,\n",
    "    points=points\n",
    ")"
   ]
  },
  {
   "cell_type": "markdown",
   "id": "8f8983c0-366f-45db-8351-198fdd8ec2b2",
   "metadata": {},
   "source": [
    "### Similiarity Search"
   ]
  },
  {
   "cell_type": "code",
   "execution_count": 30,
   "id": "3669ff3e-520b-416e-9a0e-89f44c1cf252",
   "metadata": {},
   "outputs": [],
   "source": [
    "def search(query, limit=1):\n",
    "\n",
    "    results = client.query_points(\n",
    "        collection_name=collection_name,\n",
    "        query=models.Document( \n",
    "            text=query,\n",
    "            model=model_handle \n",
    "        ),\n",
    "        limit=limit, # top closest matches\n",
    "        with_payload=True #to get metadata in the results\n",
    "    )\n",
    "\n",
    "    return results"
   ]
  },
  {
   "cell_type": "code",
   "execution_count": 31,
   "id": "987a8d62-e30f-4c15-8874-0fcb355705de",
   "metadata": {},
   "outputs": [
    {
     "name": "stdout",
     "output_type": "stream",
     "text": [
      "Highest score: 0.8621\n",
      "Question: The course has already started. Can I still join it?\n",
      "Text: Yes, you can. You won’t be able to submit some of the homeworks, but you can still take part in the course.\n",
      "In order to get a certificate, you need to submit 2 out of 3 course projects and review 3 peers’ Projects by the deadline. It means that if you join the course at the end of November and manage to work on two projects, you will still be eligible for a certificate.\n"
     ]
    }
   ],
   "source": [
    "query = \"I just discovered the course. Can I join now?\"\n",
    "\n",
    "results = search(query, limit=1)\n",
    "\n",
    "print(f\"Highest score: {results.points[0].score:.4f}\")\n",
    "print(f\"Question: {results.points[0].payload['question']}\")\n",
    "print(f\"Text: {results.points[0].payload['text']}\")"
   ]
  }
 ],
 "metadata": {
  "kernelspec": {
   "display_name": "Python 3 (ipykernel)",
   "language": "python",
   "name": "python3"
  },
  "language_info": {
   "codemirror_mode": {
    "name": "ipython",
    "version": 3
   },
   "file_extension": ".py",
   "mimetype": "text/x-python",
   "name": "python",
   "nbconvert_exporter": "python",
   "pygments_lexer": "ipython3",
   "version": "3.12.1"
  }
 },
 "nbformat": 4,
 "nbformat_minor": 5
}
